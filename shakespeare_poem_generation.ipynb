{
  "nbformat": 4,
  "nbformat_minor": 0,
  "metadata": {
    "accelerator": "GPU",
    "colab": {
      "name": "NLP_Week4_Exercise_Shakespeare_Answer.ipynb",
      "provenance": []
    },
    "kernelspec": {
      "display_name": "Python 3",
      "name": "python3"
    }
  },
  "cells": [
    {
      "cell_type": "code",
      "metadata": {
        "colab_type": "code",
        "id": "BOwsuGQQY9OL",
        "colab": {
          "base_uri": "https://localhost:8080/",
          "height": 34
        },
        "outputId": "d19e5689-65fa-4bab-9c72-aae23905e4af"
      },
      "source": [
        "from tensorflow.keras.preprocessing.sequence import pad_sequences\n",
        "from tensorflow.keras.layers import Embedding, LSTM, Dense, Dropout, Bidirectional\n",
        "from tensorflow.keras.preprocessing.text import Tokenizer\n",
        "from tensorflow.keras.models import Sequential\n",
        "from tensorflow.keras.optimizers import Adam\n",
        "from tensorflow.keras import regularizers\n",
        "import tensorflow.keras.utils as ku \n",
        "import numpy as np \n",
        "\n",
        "from google.colab import drive\n",
        "drive.mount(\"/content/drive\")\n",
        "!cd drive"
      ],
      "execution_count": 7,
      "outputs": [
        {
          "output_type": "stream",
          "text": [
            "Drive already mounted at /content/drive; to attempt to forcibly remount, call drive.mount(\"/content/drive\", force_remount=True).\n"
          ],
          "name": "stdout"
        }
      ]
    },
    {
      "cell_type": "code",
      "metadata": {
        "colab_type": "code",
        "id": "PRnDnCW-Z7qv",
        "colab": {}
      },
      "source": [
        "tokenizer = Tokenizer()\n",
        "\n",
        "\n",
        "data = open('shakespeare.txt').read()\n",
        "\n",
        "corpus = data.lower().split(\"\\n\")\n",
        "\n",
        "\n",
        "tokenizer.fit_on_texts(corpus)\n",
        "total_words = len(tokenizer.word_index) + 1\n",
        "\n",
        "# create input sequences using list of tokens\n",
        "input_sequences = []\n",
        "for line in corpus:\n",
        "\ttoken_list = tokenizer.texts_to_sequences([line])[0]\n",
        "\tfor i in range(1, len(token_list)):\n",
        "\t\tn_gram_sequence = token_list[:i+1]\n",
        "\t\tinput_sequences.append(n_gram_sequence)\n",
        "\n",
        "\n",
        "# pad sequences \n",
        "max_sequence_len = max([len(x) for x in input_sequences])\n",
        "input_sequences = np.array(pad_sequences(input_sequences, maxlen=max_sequence_len, padding='pre'))\n",
        "\n",
        "# create predictors and label\n",
        "predictors, label = input_sequences[:,:-1],input_sequences[:,-1]\n",
        "\n",
        "label = ku.to_categorical(label, num_classes=total_words)"
      ],
      "execution_count": 11,
      "outputs": []
    },
    {
      "cell_type": "code",
      "metadata": {
        "colab_type": "code",
        "id": "w9vH8Y59ajYL",
        "colab": {
          "base_uri": "https://localhost:8080/",
          "height": 370
        },
        "outputId": "931ae733-df37-4eef-85b8-4b4cc84d96db"
      },
      "source": [
        "model = Sequential()\n",
        "model.add(Embedding(total_words, 100, input_length=max_sequence_len-1))\n",
        "model.add(Bidirectional(LSTM(150, return_sequences = True)))\n",
        "model.add(Dropout(0.2))\n",
        "model.add(LSTM(100))\n",
        "model.add(Dense(total_words/2, activation='relu', kernel_regularizer=regularizers.l2(0.01)))\n",
        "model.add(Dense(total_words, activation='softmax'))\n",
        "model.compile(loss='categorical_crossentropy', optimizer='adam', metrics=['accuracy'])\n",
        "print(model.summary())\n"
      ],
      "execution_count": 12,
      "outputs": [
        {
          "output_type": "stream",
          "text": [
            "Model: \"sequential\"\n",
            "_________________________________________________________________\n",
            "Layer (type)                 Output Shape              Param #   \n",
            "=================================================================\n",
            "embedding (Embedding)        (None, 10, 100)           321100    \n",
            "_________________________________________________________________\n",
            "bidirectional (Bidirectional (None, 10, 300)           301200    \n",
            "_________________________________________________________________\n",
            "dropout (Dropout)            (None, 10, 300)           0         \n",
            "_________________________________________________________________\n",
            "lstm_1 (LSTM)                (None, 100)               160400    \n",
            "_________________________________________________________________\n",
            "dense (Dense)                (None, 1605)              162105    \n",
            "_________________________________________________________________\n",
            "dense_1 (Dense)              (None, 3211)              5156866   \n",
            "=================================================================\n",
            "Total params: 6,101,671\n",
            "Trainable params: 6,101,671\n",
            "Non-trainable params: 0\n",
            "_________________________________________________________________\n",
            "None\n"
          ],
          "name": "stdout"
        }
      ]
    },
    {
      "cell_type": "code",
      "metadata": {
        "colab_type": "code",
        "id": "AIg2f1HBxqof",
        "colab": {
          "base_uri": "https://localhost:8080/",
          "height": 1000
        },
        "outputId": "c429aa5e-6af3-4a30-ea77-65c9eb4c810d"
      },
      "source": [
        " history = model.fit(predictors, label, epochs=100, verbose=1)"
      ],
      "execution_count": 13,
      "outputs": [
        {
          "output_type": "stream",
          "text": [
            "Epoch 1/100\n",
            "484/484 [==============================] - 15s 32ms/step - loss: 6.9048 - accuracy: 0.0226\n",
            "Epoch 2/100\n",
            "484/484 [==============================] - 16s 32ms/step - loss: 6.4987 - accuracy: 0.0207\n",
            "Epoch 3/100\n",
            "484/484 [==============================] - 15s 32ms/step - loss: 6.3889 - accuracy: 0.0244\n",
            "Epoch 4/100\n",
            "484/484 [==============================] - 15s 32ms/step - loss: 6.2537 - accuracy: 0.0332\n",
            "Epoch 5/100\n",
            "484/484 [==============================] - 15s 32ms/step - loss: 6.1556 - accuracy: 0.0379\n",
            "Epoch 6/100\n",
            "484/484 [==============================] - 15s 32ms/step - loss: 6.0670 - accuracy: 0.0391\n",
            "Epoch 7/100\n",
            "484/484 [==============================] - 15s 32ms/step - loss: 5.9782 - accuracy: 0.0424\n",
            "Epoch 8/100\n",
            "484/484 [==============================] - 16s 32ms/step - loss: 5.8727 - accuracy: 0.0509\n",
            "Epoch 9/100\n",
            "484/484 [==============================] - 15s 32ms/step - loss: 5.7514 - accuracy: 0.0566\n",
            "Epoch 10/100\n",
            "484/484 [==============================] - 15s 32ms/step - loss: 5.6257 - accuracy: 0.0658\n",
            "Epoch 11/100\n",
            "484/484 [==============================] - 15s 32ms/step - loss: 5.5145 - accuracy: 0.0704\n",
            "Epoch 12/100\n",
            "484/484 [==============================] - 15s 32ms/step - loss: 5.3911 - accuracy: 0.0790\n",
            "Epoch 13/100\n",
            "484/484 [==============================] - 15s 31ms/step - loss: 5.2762 - accuracy: 0.0860\n",
            "Epoch 14/100\n",
            "484/484 [==============================] - 15s 31ms/step - loss: 5.1611 - accuracy: 0.0954\n",
            "Epoch 15/100\n",
            "484/484 [==============================] - 15s 32ms/step - loss: 5.0510 - accuracy: 0.1040\n",
            "Epoch 16/100\n",
            "484/484 [==============================] - 15s 32ms/step - loss: 4.9356 - accuracy: 0.1105\n",
            "Epoch 17/100\n",
            "484/484 [==============================] - 15s 31ms/step - loss: 4.8219 - accuracy: 0.1187\n",
            "Epoch 18/100\n",
            "484/484 [==============================] - 15s 30ms/step - loss: 4.7070 - accuracy: 0.1303\n",
            "Epoch 19/100\n",
            "484/484 [==============================] - 15s 31ms/step - loss: 4.5927 - accuracy: 0.1392\n",
            "Epoch 20/100\n",
            "484/484 [==============================] - 15s 31ms/step - loss: 4.4829 - accuracy: 0.1506\n",
            "Epoch 21/100\n",
            "484/484 [==============================] - 15s 32ms/step - loss: 4.3701 - accuracy: 0.1646\n",
            "Epoch 22/100\n",
            "484/484 [==============================] - 15s 31ms/step - loss: 4.2658 - accuracy: 0.1752\n",
            "Epoch 23/100\n",
            "484/484 [==============================] - 15s 32ms/step - loss: 4.1635 - accuracy: 0.1838\n",
            "Epoch 24/100\n",
            "484/484 [==============================] - 15s 31ms/step - loss: 4.0560 - accuracy: 0.2005\n",
            "Epoch 25/100\n",
            "484/484 [==============================] - 15s 30ms/step - loss: 3.9466 - accuracy: 0.2141\n",
            "Epoch 26/100\n",
            "484/484 [==============================] - 15s 30ms/step - loss: 3.8460 - accuracy: 0.2285\n",
            "Epoch 27/100\n",
            "484/484 [==============================] - 14s 30ms/step - loss: 3.7367 - accuracy: 0.2542\n",
            "Epoch 28/100\n",
            "484/484 [==============================] - 15s 30ms/step - loss: 3.6471 - accuracy: 0.2700\n",
            "Epoch 29/100\n",
            "484/484 [==============================] - 14s 30ms/step - loss: 3.5507 - accuracy: 0.2939\n",
            "Epoch 30/100\n",
            "484/484 [==============================] - 14s 30ms/step - loss: 3.4661 - accuracy: 0.3095\n",
            "Epoch 31/100\n",
            "484/484 [==============================] - 14s 30ms/step - loss: 3.3672 - accuracy: 0.3267\n",
            "Epoch 32/100\n",
            "484/484 [==============================] - 15s 30ms/step - loss: 3.2891 - accuracy: 0.3490\n",
            "Epoch 33/100\n",
            "484/484 [==============================] - 14s 30ms/step - loss: 3.2009 - accuracy: 0.3658\n",
            "Epoch 34/100\n",
            "484/484 [==============================] - 15s 30ms/step - loss: 3.1144 - accuracy: 0.3855\n",
            "Epoch 35/100\n",
            "484/484 [==============================] - 15s 30ms/step - loss: 3.0442 - accuracy: 0.4029\n",
            "Epoch 36/100\n",
            "484/484 [==============================] - 15s 32ms/step - loss: 2.9732 - accuracy: 0.4194\n",
            "Epoch 37/100\n",
            "484/484 [==============================] - 16s 33ms/step - loss: 2.8959 - accuracy: 0.4349\n",
            "Epoch 38/100\n",
            "484/484 [==============================] - 16s 32ms/step - loss: 2.8346 - accuracy: 0.4504\n",
            "Epoch 39/100\n",
            "484/484 [==============================] - 15s 31ms/step - loss: 2.7584 - accuracy: 0.4676\n",
            "Epoch 40/100\n",
            "484/484 [==============================] - 15s 30ms/step - loss: 2.6948 - accuracy: 0.4800\n",
            "Epoch 41/100\n",
            "484/484 [==============================] - 14s 30ms/step - loss: 2.6352 - accuracy: 0.4928\n",
            "Epoch 42/100\n",
            "484/484 [==============================] - 15s 30ms/step - loss: 2.5778 - accuracy: 0.5098\n",
            "Epoch 43/100\n",
            "484/484 [==============================] - 15s 31ms/step - loss: 2.5231 - accuracy: 0.5206\n",
            "Epoch 44/100\n",
            "484/484 [==============================] - 15s 32ms/step - loss: 2.4614 - accuracy: 0.5347\n",
            "Epoch 45/100\n",
            "484/484 [==============================] - 15s 32ms/step - loss: 2.4080 - accuracy: 0.5457\n",
            "Epoch 46/100\n",
            "484/484 [==============================] - 16s 32ms/step - loss: 2.3527 - accuracy: 0.5590\n",
            "Epoch 47/100\n",
            "484/484 [==============================] - 16s 32ms/step - loss: 2.3161 - accuracy: 0.5640\n",
            "Epoch 48/100\n",
            "484/484 [==============================] - 16s 33ms/step - loss: 2.2663 - accuracy: 0.5801\n",
            "Epoch 49/100\n",
            "484/484 [==============================] - 16s 32ms/step - loss: 2.2163 - accuracy: 0.5889\n",
            "Epoch 50/100\n",
            "484/484 [==============================] - 15s 32ms/step - loss: 2.1712 - accuracy: 0.6001\n",
            "Epoch 51/100\n",
            "484/484 [==============================] - 15s 32ms/step - loss: 2.1264 - accuracy: 0.6105\n",
            "Epoch 52/100\n",
            "484/484 [==============================] - 15s 32ms/step - loss: 2.0786 - accuracy: 0.6215\n",
            "Epoch 53/100\n",
            "484/484 [==============================] - 15s 32ms/step - loss: 2.0420 - accuracy: 0.6245\n",
            "Epoch 54/100\n",
            "484/484 [==============================] - 15s 32ms/step - loss: 2.0085 - accuracy: 0.6350\n",
            "Epoch 55/100\n",
            "484/484 [==============================] - 15s 32ms/step - loss: 1.9720 - accuracy: 0.6433\n",
            "Epoch 56/100\n",
            "484/484 [==============================] - 15s 32ms/step - loss: 1.9369 - accuracy: 0.6519\n",
            "Epoch 57/100\n",
            "484/484 [==============================] - 16s 32ms/step - loss: 1.8958 - accuracy: 0.6602\n",
            "Epoch 58/100\n",
            "484/484 [==============================] - 16s 32ms/step - loss: 1.8614 - accuracy: 0.6673\n",
            "Epoch 59/100\n",
            "484/484 [==============================] - 15s 32ms/step - loss: 1.8208 - accuracy: 0.6760\n",
            "Epoch 60/100\n",
            "484/484 [==============================] - 15s 31ms/step - loss: 1.8108 - accuracy: 0.6766\n",
            "Epoch 61/100\n",
            "484/484 [==============================] - 15s 31ms/step - loss: 1.7757 - accuracy: 0.6825\n",
            "Epoch 62/100\n",
            "484/484 [==============================] - 15s 32ms/step - loss: 1.7412 - accuracy: 0.6904\n",
            "Epoch 63/100\n",
            "484/484 [==============================] - 15s 32ms/step - loss: 1.7136 - accuracy: 0.6973\n",
            "Epoch 64/100\n",
            "484/484 [==============================] - 15s 32ms/step - loss: 1.6814 - accuracy: 0.7050\n",
            "Epoch 65/100\n",
            "484/484 [==============================] - 15s 31ms/step - loss: 1.6458 - accuracy: 0.7119\n",
            "Epoch 66/100\n",
            "484/484 [==============================] - 15s 31ms/step - loss: 1.6217 - accuracy: 0.7179\n",
            "Epoch 67/100\n",
            "484/484 [==============================] - 15s 31ms/step - loss: 1.5935 - accuracy: 0.7234\n",
            "Epoch 68/100\n",
            "484/484 [==============================] - 14s 30ms/step - loss: 1.5743 - accuracy: 0.7271\n",
            "Epoch 69/100\n",
            "484/484 [==============================] - 15s 30ms/step - loss: 1.5674 - accuracy: 0.7267\n",
            "Epoch 70/100\n",
            "484/484 [==============================] - 15s 30ms/step - loss: 1.5353 - accuracy: 0.7335\n",
            "Epoch 71/100\n",
            "484/484 [==============================] - 15s 30ms/step - loss: 1.5114 - accuracy: 0.7355\n",
            "Epoch 72/100\n",
            "484/484 [==============================] - 15s 30ms/step - loss: 1.5026 - accuracy: 0.7388\n",
            "Epoch 73/100\n",
            "484/484 [==============================] - 15s 30ms/step - loss: 1.4696 - accuracy: 0.7472\n",
            "Epoch 74/100\n",
            "484/484 [==============================] - 15s 32ms/step - loss: 1.4480 - accuracy: 0.7495\n",
            "Epoch 75/100\n",
            "484/484 [==============================] - 16s 32ms/step - loss: 1.4225 - accuracy: 0.7551\n",
            "Epoch 76/100\n",
            "484/484 [==============================] - 15s 31ms/step - loss: 1.4184 - accuracy: 0.7554\n",
            "Epoch 77/100\n",
            "484/484 [==============================] - 14s 30ms/step - loss: 1.4071 - accuracy: 0.7587\n",
            "Epoch 78/100\n",
            "484/484 [==============================] - 15s 31ms/step - loss: 1.3808 - accuracy: 0.7645\n",
            "Epoch 79/100\n",
            "484/484 [==============================] - 15s 30ms/step - loss: 1.3663 - accuracy: 0.7669\n",
            "Epoch 80/100\n",
            "484/484 [==============================] - 15s 30ms/step - loss: 1.3507 - accuracy: 0.7701\n",
            "Epoch 81/100\n",
            "484/484 [==============================] - 15s 31ms/step - loss: 1.3297 - accuracy: 0.7735\n",
            "Epoch 82/100\n",
            "484/484 [==============================] - 15s 31ms/step - loss: 1.3088 - accuracy: 0.7762\n",
            "Epoch 83/100\n",
            "484/484 [==============================] - 15s 32ms/step - loss: 1.2934 - accuracy: 0.7802\n",
            "Epoch 84/100\n",
            "484/484 [==============================] - 15s 31ms/step - loss: 1.2832 - accuracy: 0.7787\n",
            "Epoch 85/100\n",
            "484/484 [==============================] - 15s 31ms/step - loss: 1.2736 - accuracy: 0.7816\n",
            "Epoch 86/100\n",
            "484/484 [==============================] - 15s 31ms/step - loss: 1.2662 - accuracy: 0.7802\n",
            "Epoch 87/100\n",
            "484/484 [==============================] - 16s 33ms/step - loss: 1.2461 - accuracy: 0.7844\n",
            "Epoch 88/100\n",
            "484/484 [==============================] - 16s 33ms/step - loss: 1.2493 - accuracy: 0.7832\n",
            "Epoch 89/100\n",
            "484/484 [==============================] - 16s 34ms/step - loss: 1.2352 - accuracy: 0.7846\n",
            "Epoch 90/100\n",
            "484/484 [==============================] - 16s 33ms/step - loss: 1.2089 - accuracy: 0.7920\n",
            "Epoch 91/100\n",
            "484/484 [==============================] - 16s 33ms/step - loss: 1.1931 - accuracy: 0.7939\n",
            "Epoch 92/100\n",
            "484/484 [==============================] - 16s 34ms/step - loss: 1.1832 - accuracy: 0.7950\n",
            "Epoch 93/100\n",
            "484/484 [==============================] - 16s 34ms/step - loss: 1.1732 - accuracy: 0.7952\n",
            "Epoch 94/100\n",
            "484/484 [==============================] - 16s 33ms/step - loss: 1.1620 - accuracy: 0.7982\n",
            "Epoch 95/100\n",
            "484/484 [==============================] - 16s 33ms/step - loss: 1.1571 - accuracy: 0.7996\n",
            "Epoch 96/100\n",
            "484/484 [==============================] - 16s 34ms/step - loss: 1.1614 - accuracy: 0.7976\n",
            "Epoch 97/100\n",
            "484/484 [==============================] - 16s 33ms/step - loss: 1.1483 - accuracy: 0.7994\n",
            "Epoch 98/100\n",
            "484/484 [==============================] - 16s 33ms/step - loss: 1.1413 - accuracy: 0.7990\n",
            "Epoch 99/100\n",
            "484/484 [==============================] - 16s 32ms/step - loss: 1.1241 - accuracy: 0.8013\n",
            "Epoch 100/100\n",
            "484/484 [==============================] - 15s 32ms/step - loss: 1.1202 - accuracy: 0.8062\n"
          ],
          "name": "stdout"
        }
      ]
    },
    {
      "cell_type": "code",
      "metadata": {
        "colab_type": "code",
        "id": "1fXTEO3GJ282",
        "colab": {
          "base_uri": "https://localhost:8080/",
          "height": 545
        },
        "outputId": "ca4eb393-1f03-4058-eac7-347bd8ce5858"
      },
      "source": [
        "import matplotlib.pyplot as plt\n",
        "acc = history.history['accuracy']\n",
        "loss = history.history['loss']\n",
        "\n",
        "epochs = range(len(acc))\n",
        "\n",
        "plt.plot(epochs, acc, 'b', label='Training accuracy')\n",
        "plt.title('Training accuracy')\n",
        "\n",
        "plt.figure()\n",
        "\n",
        "plt.plot(epochs, loss, 'b', label='Training Loss')\n",
        "plt.title('Training loss')\n",
        "plt.legend()\n",
        "\n",
        "plt.show()"
      ],
      "execution_count": 14,
      "outputs": [
        {
          "output_type": "display_data",
          "data": {
            "image/png": "[encoded data removed]",
            "text/plain": [
              "<Figure size 432x288 with 1 Axes>"
            ]
          },
          "metadata": {
            "tags": [],
            "needs_background": "light"
          }
        },
        {
          "output_type": "display_data",
          "data": {
            "image/png": "[encoded data removed]",
            "text/plain": [
              "<Figure size 432x288 with 1 Axes>"
            ]
          },
          "metadata": {
            "tags": [],
            "needs_background": "light"
          }
        }
      ]
    },
    {
      "cell_type": "code",
      "metadata": {
        "colab_type": "code",
        "id": "6Vc6PHgxa6Hm",
        "colab": {
          "base_uri": "https://localhost:8080/",
          "height": 54
        },
        "outputId": "ae5c6ca6-403d-4bbb-bb21-278b82438a9c"
      },
      "source": [
        "seed_text = \"Help me Obi Wan Kenobi, you're my only hope\"\n",
        "next_words = 100\n",
        "  \n",
        "for _ in range(next_words):\n",
        "\ttoken_list = tokenizer.texts_to_sequences([seed_text])[0]\n",
        "\ttoken_list = pad_sequences([token_list], maxlen=max_sequence_len-1, padding='pre')\n",
        "\tpredicted = model.predict_classes(token_list, verbose=0)\n",
        "\toutput_word = \"\"\n",
        "\tfor word, index in tokenizer.word_index.items():\n",
        "\t\tif index == predicted:\n",
        "\t\t\toutput_word = word\n",
        "\t\t\tbreak\n",
        "\tseed_text += \" \" + output_word\n",
        "print(seed_text)"
      ],
      "execution_count": 19,
      "outputs": [
        {
          "output_type": "stream",
          "text": [
            "Help me Obi Wan Kenobi, you're my only hope will read my purpose both heaven so dumb shame well contains kind are every pen bright bright prove life held light kind bright moan ill wrong new show devise none twain twain show thee tongue pain be mine eyes so counted fair that hearts spent shall grow kill men lie so live to ride be hell of men lend worms ill ill lies bright spent bright spent grow new spent grow dead lie to thee men so nothing hell new heir friend bear life more bright delight delight friend nearly quite green give store gone of men to catch life\n"
          ],
          "name": "stdout"
        }
      ]
    }
  ]
}